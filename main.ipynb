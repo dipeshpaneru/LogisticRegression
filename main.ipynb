{
 "cells": [
  {
   "cell_type": "code",
   "execution_count": 4,
   "id": "6c89cfe1-6927-44c6-8e2d-373f3f5bcc63",
   "metadata": {},
   "outputs": [
    {
     "name": "stdout",
     "output_type": "stream",
     "text": [
      "       id outcome  time  mean_radius  mean_texture  mean_perimeter  mean_area  \\\n",
      "0  119513       N    31        18.02         27.60          117.50     1013.0   \n",
      "1    8423       N    61        17.99         10.38          122.80     1001.0   \n",
      "2  842517       N   116        21.37         17.44          137.50     1373.0   \n",
      "3  843483       N   123        11.42         20.38           77.58      386.1   \n",
      "4  843584       R    27        20.29         14.34          135.10     1297.0   \n",
      "\n",
      "   mean_smoothness  mean_compactness  mean_concavity  ...  worst_perimeter  \\\n",
      "0          0.09489            0.1036          0.1086  ...           139.70   \n",
      "1          0.11840            0.2776          0.3001  ...           184.60   \n",
      "2          0.08836            0.1189          0.1255  ...           159.10   \n",
      "3          0.14250            0.2839          0.2414  ...            98.87   \n",
      "4          0.10030            0.1328          0.1980  ...           152.20   \n",
      "\n",
      "   worst_area  worst_smoothness  worst_compactness  worst_concavity  \\\n",
      "0      1436.0            0.1195             0.1926           0.3140   \n",
      "1      2019.0            0.1622             0.6656           0.7119   \n",
      "2      1949.0            0.1188             0.3449           0.3414   \n",
      "3       567.7            0.2098             0.8663           0.6869   \n",
      "4      1575.0            0.1374             0.2050           0.4000   \n",
      "\n",
      "   worst_concave_points  worst_symmetry  worst_fractal_dimension  tumor_size  \\\n",
      "0                0.1170          0.2677                  0.08113         5.0   \n",
      "1                0.2654          0.4601                  0.11890         3.0   \n",
      "2                0.2032          0.4334                  0.09067         2.5   \n",
      "3                0.2575          0.6638                  0.17300         2.0   \n",
      "4                0.1625          0.2364                  0.07678         3.5   \n",
      "\n",
      "   lymph_node_status  \n",
      "0                5.0  \n",
      "1                2.0  \n",
      "2                0.0  \n",
      "3                0.0  \n",
      "4                0.0  \n",
      "\n",
      "[5 rows x 35 columns]\n"
     ]
    }
   ],
   "source": [
    "import pandas as pd\n",
    "\n",
    "df = pd.read_csv('Cancer_dataset1.csv')\n",
    "print(df.head())"
   ]
  },
  {
   "cell_type": "code",
   "execution_count": 5,
   "id": "129b20f8-093e-4d07-a1d2-9002078a1879",
   "metadata": {},
   "outputs": [
    {
     "name": "stdout",
     "output_type": "stream",
     "text": [
      "0    N\n",
      "1    N\n",
      "2    N\n",
      "3    N\n",
      "4    R\n",
      "Name: outcome, dtype: object\n"
     ]
    }
   ],
   "source": [
    "print(df['outcome'].head())\n"
   ]
  }
 ],
 "metadata": {
  "kernelspec": {
   "display_name": "Python 3",
   "language": "python",
   "name": "python3"
  },
  "language_info": {
   "codemirror_mode": {
    "name": "ipython",
    "version": 3
   },
   "file_extension": ".py",
   "mimetype": "text/x-python",
   "name": "python",
   "nbconvert_exporter": "python",
   "pygments_lexer": "ipython3",
   "version": "3.10.4"
  }
 },
 "nbformat": 4,
 "nbformat_minor": 5
}
